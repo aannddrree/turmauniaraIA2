{
  "nbformat": 4,
  "nbformat_minor": 0,
  "metadata": {
    "colab": {
      "provenance": [],
      "authorship_tag": "ABX9TyN1va1pt4w0kbMlInynN//u",
      "include_colab_link": true
    },
    "kernelspec": {
      "name": "python3",
      "display_name": "Python 3"
    },
    "language_info": {
      "name": "python"
    }
  },
  "cells": [
    {
      "cell_type": "markdown",
      "metadata": {
        "id": "view-in-github",
        "colab_type": "text"
      },
      "source": [
        "<a href=\"https://colab.research.google.com/github/aannddrree/turmauniaraIA2/blob/main/Q_Learning_classico.ipynb\" target=\"_parent\"><img src=\"https://colab.research.google.com/assets/colab-badge.svg\" alt=\"Open In Colab\"/></a>"
      ]
    },
    {
      "cell_type": "code",
      "execution_count": 6,
      "metadata": {
        "colab": {
          "base_uri": "https://localhost:8080/"
        },
        "id": "8Vrgw-OYC62l",
        "outputId": "a67afa95-388e-452b-cd2e-033ca23f85af"
      },
      "outputs": [
        {
          "output_type": "stream",
          "name": "stdout",
          "text": [
            "Tabela Q após o treinamento:\n",
            "[[9.9609375  8.70117188]\n",
            " [0.         0.        ]]\n"
          ]
        }
      ],
      "source": [
        "import numpy as np\n",
        "\n",
        "# Definindo os parâmetros\n",
        "alpha = 0.5  # Taxa de aprendizado\n",
        "gamma = 0.9  # Fator de desconto\n",
        "episodes = 10  # Número de episódios de treinamento\n",
        "actions = [0, 1]  # 0: mover-se para o próximo estado, 1: ficar no mesmo estado\n",
        "states = [0, 1]  # Estado 0 e Estado 1\n",
        "\n",
        "# Inicializando a tabela Q com zeros\n",
        "Q = np.zeros((len(states), len(actions)))\n",
        "\n",
        "# Função para escolher a ação (exemplo de escolha aleatória)\n",
        "def choose_action(state):\n",
        "    return np.random.choice(actions)\n",
        "\n",
        "# Função de recompensa simples\n",
        "def get_reward(state, action):\n",
        "    if state == 0 and action == 0:\n",
        "        return 10  # Recompensa por se mover para o estado 1\n",
        "    else:\n",
        "        return 0  # Recompensa neutra\n",
        "\n",
        "# Q-Learning\n",
        "for episode in range(episodes):\n",
        "    state = 0  # Sempre começamos no estado 0\n",
        "\n",
        "    for step in range(2):  # Cada episódio tem dois passos\n",
        "        action = choose_action(state)\n",
        "        reward = get_reward(state, action)\n",
        "\n",
        "        # Definir o próximo estado (garantir que não passe do estado 1)\n",
        "        next_state = min(state + 1, len(states) - 1) if action == 0 else state\n",
        "\n",
        "        # Atualizar o valor Q usando a fórmula do Q-Learning\n",
        "        Q[state, action] = Q[state, action] + alpha * (reward + gamma * np.max(Q[next_state, :]) - Q[state, action])\n",
        "\n",
        "        # Mudar para o próximo estado\n",
        "        state = next_state\n",
        "\n",
        "# Exibir a tabela Q aprendida\n",
        "print(\"Tabela Q após o treinamento:\")\n",
        "print(Q)\n"
      ]
    }
  ]
}