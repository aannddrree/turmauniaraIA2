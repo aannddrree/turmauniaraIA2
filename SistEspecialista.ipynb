{
  "nbformat": 4,
  "nbformat_minor": 0,
  "metadata": {
    "colab": {
      "provenance": [],
      "authorship_tag": "ABX9TyPTFSGaYCbq1d7dkTIF28Bw",
      "include_colab_link": true
    },
    "kernelspec": {
      "name": "python3",
      "display_name": "Python 3"
    },
    "language_info": {
      "name": "python"
    }
  },
  "cells": [
    {
      "cell_type": "markdown",
      "metadata": {
        "id": "view-in-github",
        "colab_type": "text"
      },
      "source": [
        "<a href=\"https://colab.research.google.com/github/aannddrree/turmauniaraIA2/blob/main/SistEspecialista.ipynb\" target=\"_parent\"><img src=\"https://colab.research.google.com/assets/colab-badge.svg\" alt=\"Open In Colab\"/></a>"
      ]
    },
    {
      "cell_type": "code",
      "execution_count": 2,
      "metadata": {
        "id": "CjH8A5DYeI9I"
      },
      "outputs": [],
      "source": [
        "# Base de Conhecimento\n",
        "livros = [\n",
        "    {\"Título\": \"Livro A\", \"Gênero\": \"Ficção Científica\", \"Faixa Etária\": \"Jovem\"},\n",
        "    {\"Título\": \"Livro B\", \"Gênero\": \"Ficção Científica\", \"Faixa Etária\": \"Adulto\"},\n",
        "    # Adicione mais livros conforme necessário\n",
        "]\n",
        "\n",
        "# Regras de Recomendação\n",
        "regras = [\n",
        "    {\"Condição\": {\"Gênero\": \"Ficção Científica\", \"Faixa Etária\": \"Jovem\"}, \"Recomendação\": [\"Livro A\"]},\n",
        "    {\"Condição\": {\"Gênero\": \"Ficção Científica\", \"Faixa Etária\": \"Adulto\"}, \"Recomendação\": [\"Livro B\"]},\n",
        "    # Adicione mais regras conforme necessário\n",
        "]\n",
        ""
      ]
    },
    {
      "cell_type": "code",
      "source": [
        "def recomendar_livros(preferencias):\n",
        "    recomendacoes = []\n",
        "    for regra in regras:\n",
        "        condicao = regra[\"Condição\"]\n",
        "        if (preferencias[\"Gênero\"] == condicao[\"Gênero\"] and\n",
        "                preferencias[\"Faixa Etária\"] == condicao[\"Faixa Etária\"]):\n",
        "            recomendacoes.extend(regra[\"Recomendação\"])\n",
        "    return recomendacoes\n"
      ],
      "metadata": {
        "id": "paQFjmBAen9M"
      },
      "execution_count": 3,
      "outputs": []
    },
    {
      "cell_type": "code",
      "source": [
        "def main():\n",
        "    # Coletar preferências do usuário\n",
        "    genero = input(\"Qual gênero de livro você prefere? \")\n",
        "    faixa_etaria = input(\"Qual é a sua faixa etária? \")\n",
        "\n",
        "    preferencias = {\n",
        "        \"Gênero\": genero,\n",
        "        \"Faixa Etária\": faixa_etaria\n",
        "    }\n",
        "\n",
        "    # Obter recomendações\n",
        "    livros_recomendados = recomendar_livros(preferencias)\n",
        "\n",
        "    # Mostrar recomendações\n",
        "    if livros_recomendados:\n",
        "        print(\"Livros Recomendados:\")\n",
        "        for livro in livros_recomendados:\n",
        "            print(f\"- {livro}\")\n",
        "    else:\n",
        "        print(\"Nenhuma recomendação disponível para suas preferências.\")\n",
        "\n",
        "if __name__ == \"__main__\":\n",
        "    main()\n"
      ],
      "metadata": {
        "colab": {
          "base_uri": "https://localhost:8080/"
        },
        "id": "VVGk2FB3er-3",
        "outputId": "94d752bd-4066-4ec4-9ac0-581c49a0b76d"
      },
      "execution_count": 5,
      "outputs": [
        {
          "output_type": "stream",
          "name": "stdout",
          "text": [
            "Qual gênero de livro você prefere? Ficção Científica\n",
            "Qual é a sua faixa etária? Jovem\n",
            "Livros Recomendados:\n",
            "- Livro A\n"
          ]
        }
      ]
    }
  ]
}